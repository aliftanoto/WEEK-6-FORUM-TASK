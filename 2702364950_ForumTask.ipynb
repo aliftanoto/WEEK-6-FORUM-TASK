{
 "cells": [
  {
   "cell_type": "code",
   "execution_count": 4,
   "id": "44e75001-5d36-413f-8dba-1e9ab8832fd8",
   "metadata": {},
   "outputs": [
    {
     "name": "stdout",
     "output_type": "stream",
     "text": [
      "Lloyd\n",
      "[90.0, 97.0, 75.0, 92.0]\n",
      "[88.0, 40.0, 94.0]\n",
      "[75.0, 90.0]\n",
      "Alice\n",
      "[100.0, 92.0, 98.0, 100.0]\n",
      "[82.0, 83.0, 91.0]\n",
      "[89.0, 97.0]\n",
      "Tyler\n",
      "[0.0, 87.0, 75.0, 22.0]\n",
      "[0.0, 75.0, 78.0]\n",
      "[100.0, 100.0]\n",
      "the average is 83.86666666666666\n",
      "the grade is B\n"
     ]
    }
   ],
   "source": [
    "#Task 1\n",
    "lloyd = {\n",
    "\"name\": \"Lloyd\",\n",
    "\"homework\": [90.0,97.0,75.0,92.0],\n",
    "\"quizzes\": [88.0,40.0,94.0],\n",
    "\"tests\": [75.0,90.0]\n",
    "}\n",
    "alice = {\n",
    "\"name\": \"Alice\",\n",
    "\"homework\": [100.0, 92.0, 98.0, 100.0],\n",
    "\"quizzes\": [82.0, 83.0, 91.0],\n",
    "\"tests\": [89.0, 97.0]\n",
    "}\n",
    "tyler = {\n",
    "\"name\": \"Tyler\",\n",
    "\"homework\": [0.0, 87.0, 75.0, 22.0],\n",
    "\"quizzes\": [0.0, 75.0, 78.0],\n",
    "\"tests\": [100.0, 100.0]\n",
    "}\n",
    "\n",
    "students=[lloyd,alice,tyler]\n",
    "for student in students:\n",
    "    print(student['name'])\n",
    "    print(student['homework'])\n",
    "    print(student['quizzes'])\n",
    "    print(student['tests'])\n",
    "\n",
    "def average(numbers):\n",
    "  total=float(sum(numbers))\n",
    "  return total/len(numbers)\n",
    "\n",
    "def get_average(student):\n",
    "  homework = average(student[\"homework\"])\n",
    "  quizzes = average(student['quizzes'])\n",
    "  tests = average(student['tests'])\n",
    "  return 0.1 * homework + 0.3 * quizzes + 0.6 * tests\n",
    "def get_letter_grade(score):\n",
    "    if score >= 90:\n",
    "      return 'A'\n",
    "    elif score >= 80:\n",
    "        return 'B'\n",
    "    elif score >= 70:\n",
    "        return 'C'\n",
    "    elif score >= 60:\n",
    "        return 'D'\n",
    "    else:\n",
    "        return 'F'\n",
    "\n",
    "\n",
    "def get_class_average(students):\n",
    "    results=[]\n",
    "    for student in students:\n",
    "        student_average = get_average(student)\n",
    "        results.append(student_average)\n",
    "    class_average = average(results)\n",
    "    return class_average\n",
    "print('the average is' , get_class_average(students))\n",
    "print('the grade is' , get_letter_grade(get_class_average(students)))"
   ]
  },
  {
   "cell_type": "code",
   "execution_count": 3,
   "id": "446a1c93-819c-4af5-aa6d-ee50b525fa81",
   "metadata": {},
   "outputs": [
    {
     "name": "stdin",
     "output_type": "stream",
     "text": [
      "choose your course type (COP 2510 , EGN 3000L , MAC 2281 , MUH 3016 , PHY 2048):  COP 2510\n"
     ]
    },
    {
     "name": "stdout",
     "output_type": "stream",
     "text": [
      "==============================\n",
      "Programming Concepts\n",
      "Z.Beasly\n",
      "MW 12:30pm - 1:45pm\n"
     ]
    }
   ],
   "source": [
    "#Task 2\n",
    "course_type=('COP 2510','EGN 3000L','MAC 2281','MUH 3016','PHY 2048')\n",
    "    \n",
    "course_name={\n",
    "    'COP 2510':'Programming Concepts',\n",
    "    'EGN 3000L':'Foundations of Engineering lab',\n",
    "    'MAC 2281':'Calculus I',\n",
    "    'MUH 3016':'Survey of Jazz',\n",
    "    'PHY 2048':'General Physics I'\n",
    "}\n",
    "course_instructor={\n",
    "    'COP 2510':'Z.Beasly',\n",
    "    'EGN 3000L':'J.Anderson',\n",
    "    'MAC 2281':'A.Makaryus',\n",
    "    'MUH 3016':'A.Wilkins',\n",
    "    'PHY 2048':'G.Pradhan'\n",
    "}\n",
    "course_times={\n",
    "    'COP 2510':'MW 12:30pm - 1:45pm',\n",
    "    'EGN 3000L':'TR 11:00am - 12:15pm',\n",
    "    'MAC 2281':'MW 9:30am - 10:45am',\n",
    "    'MUH 3016':'online asynchronous',\n",
    "    'PHY 2048':'TR 5:00pm - 6:15pm'\n",
    "}\n",
    "def course(course_type):\n",
    "    if course_type in course_name:\n",
    "        print(f'==='*10)\n",
    "        print(f'{course_name[course_type]}')\n",
    "        print(f'{course_instructor[course_type]}')\n",
    "        print(f'{course_times[course_type]}')\n",
    "    else:\n",
    "        print('ERROR try again')\n",
    "n=str(input('choose your course type (COP 2510 , EGN 3000L , MAC 2281 , MUH 3016 , PHY 2048): '))\n",
    "course(n)"
   ]
  },
  {
   "cell_type": "code",
   "execution_count": 2,
   "id": "e847f13f-a144-49aa-994c-9ce51d14d2b1",
   "metadata": {},
   "outputs": [
    {
     "name": "stdin",
     "output_type": "stream",
     "text": [
      "enter the sale of sunday 50000\n",
      "enter the sale of monday 150000\n",
      "enter the sale of tuesday 10000\n",
      "enter the sale of wednesday -12415\n"
     ]
    },
    {
     "name": "stdout",
     "output_type": "stream",
     "text": [
      "please enter the sale equal or greater than 0\n"
     ]
    },
    {
     "name": "stdin",
     "output_type": "stream",
     "text": [
      "enter the sale of wednesday 250000\n",
      "enter the sale of thursday -23145\n"
     ]
    },
    {
     "name": "stdout",
     "output_type": "stream",
     "text": [
      "please enter the sale equal or greater than 0\n"
     ]
    },
    {
     "name": "stdin",
     "output_type": "stream",
     "text": [
      "enter the sale of thursday 55000\n",
      "enter the sale of friday 100000\n",
      "enter the sale of saturday 505000\n"
     ]
    },
    {
     "name": "stdout",
     "output_type": "stream",
     "text": [
      "========================================\n",
      "The Total of the Sales is :Rp1,120,000.00\n",
      "The maximum of the Sales is :Rp505,000.00\n",
      "The minimum of the Sales is :Rp10,000.00\n"
     ]
    }
   ],
   "source": [
    "#Task 3\n",
    "day_of_week=('sunday','monday','tuesday','wednesday','thursday','friday','saturday')\n",
    "sales=[]\n",
    "\n",
    "for day in day_of_week:\n",
    "    while True:\n",
    "        sale=int(input(f'enter the sale of {day}'))\n",
    "        if sale >= 0:\n",
    "            sales.append(sale)\n",
    "            break\n",
    "        else:\n",
    "            print('please enter the sale equal or greater than 0')\n",
    "total  = sum(sales)\n",
    "maximum= max(sales)\n",
    "minimum= min(sales)\n",
    "\n",
    "format_total='{:,.2f}'.format(total)\n",
    "format_maximum='{:,.2f}'.format(maximum)\n",
    "format_minimum='{:,.2f}'.format(minimum)\n",
    "\n",
    "print(f'===='*10)\n",
    "print(f'The Total of the Sales is :Rp{format_total}')\n",
    "print(f'The maximum of the Sales is :Rp{format_maximum}')\n",
    "print(f'The minimum of the Sales is :Rp{format_minimum}')"
   ]
  },
  {
   "cell_type": "code",
   "execution_count": 17,
   "id": "d674f2fa-f439-40ba-afd2-1878b722a70f",
   "metadata": {},
   "outputs": [
    {
     "name": "stdin",
     "output_type": "stream",
     "text": [
      "enter the string :  If the answer was 42, then what was the question?\n"
     ]
    },
    {
     "name": "stdout",
     "output_type": "stream",
     "text": [
      "morse code : ....-. -..... .--.....--..-. .--.-... ....-..-----..-- -.....-. .--.....-- .--.-... -..... --.-..-....-..----...--..\n"
     ]
    }
   ],
   "source": [
    "#Task 4\n",
    "morse_code = (\n",
    "    ('A', '.-'), ('B', '-...'), ('C', '-.-.'), ('D', '-..'), ('E', '.'), ('F', '..-.'), ('G', '--.'), ('H', '....'),\n",
    "    ('I', '..'), ('J', '.---'), ('K', '-.-'), ('L', '.-..'), ('M', '--'), ('N', '-.'), ('O', '---'), ('P', '.--.'),\n",
    "    ('Q', '--.-'), ('R', '.-.'), ('S', '...'), ('T', '-'), ('U', '..-'), ('V', '...-'), ('W', '.--'), ('X', '-..-'),\n",
    "    ('Y', '-.--'), ('Z', '--..'), ('0', '-----'), ('1', '.----'), ('2', '..---'), ('3', '...--'), ('4', '....-'),\n",
    "    ('5', '.....'), ('6', '-....'), ('7', '--...'), ('8', '---..'), ('9', '----.'), (' ', ' '), (',', '--..--'), ('.', '.-.-.-'),\n",
    "    ('?', '..--..'), ('')\n",
    ")\n",
    "result=''\n",
    "user_input=input('enter the string : ').upper()\n",
    "\n",
    "for char in user_input:\n",
    "    for morse in morse_code:\n",
    "        if char==morse[0]:\n",
    "            result += morse[1] + '' \n",
    "            break\n",
    "    else:\n",
    "        result += char + ''\n",
    "\n",
    "print(f'morse code : {result}')\n",
    "            \n",
    "            "
   ]
  }
 ],
 "metadata": {
  "kernelspec": {
   "display_name": "Python 3 (ipykernel)",
   "language": "python",
   "name": "python3"
  },
  "language_info": {
   "codemirror_mode": {
    "name": "ipython",
    "version": 3
   },
   "file_extension": ".py",
   "mimetype": "text/x-python",
   "name": "python",
   "nbconvert_exporter": "python",
   "pygments_lexer": "ipython3",
   "version": "3.11.5"
  }
 },
 "nbformat": 4,
 "nbformat_minor": 5
}
